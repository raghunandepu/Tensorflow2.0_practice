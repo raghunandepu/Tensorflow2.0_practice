{
  "nbformat": 4,
  "nbformat_minor": 0,
  "metadata": {
    "colab": {
      "name": "1. Develop A Single Neuron Model to Convert C to F_RN.ipynb",
      "provenance": [],
      "collapsed_sections": [],
      "include_colab_link": true
    },
    "kernelspec": {
      "name": "python3",
      "display_name": "Python 3"
    },
    "accelerator": "GPU"
  },
  "cells": [
    {
      "cell_type": "markdown",
      "metadata": {
        "id": "view-in-github",
        "colab_type": "text"
      },
      "source": [
        "<a href=\"https://colab.research.google.com/github/raghunandepu/Tensorflow2.0_practice/blob/master/1_Develop_A_Single_Neuron_Model_to_Convert_C_to_F_RN.ipynb\" target=\"_parent\"><img src=\"https://colab.research.google.com/assets/colab-badge.svg\" alt=\"Open In Colab\"/></a>"
      ]
    },
    {
      "cell_type": "markdown",
      "metadata": {
        "id": "M27qF7CTrBqc",
        "colab_type": "text"
      },
      "source": [
        "# PROBLEM STATEMENT"
      ]
    },
    {
      "cell_type": "markdown",
      "metadata": {
        "id": "iCj2rwwHBB1I",
        "colab_type": "text"
      },
      "source": [
        "\n",
        "- In this project, we will build a simple machine learning model to convert from celsius to fahrenheit. \n",
        "- The equation is as follows: **T(°F) = T(°C) × 9/5 + 32**\n",
        "- For Example, let's convert 0°C celsius temperature to Fahrenheit:  **(0°C × 9/5) + 32 = 32°F**\n"
      ]
    },
    {
      "cell_type": "markdown",
      "metadata": {
        "id": "Z2ZMlH-gtOxf",
        "colab_type": "text"
      },
      "source": [
        "\n",
        "<table>\n",
        "  <tr><td>\n",
        "    <img src=\"https://upload.wikimedia.org/wikipedia/commons/7/70/Thermometer_CF.svg\"\n",
        "         alt=\"Fashion MNIST sprite\"  width=\"600\">\n",
        "  </td></tr>\n",
        "  <tr><td align=\"center\">\n",
        "    <b>Figure 1. Convert Celsius to Fahrenheit [Image Source: https://commons.wikimedia.org/wiki/File:Thermometer_CF.svg]\n",
        "  </td></tr>\n",
        "</table>\n"
      ]
    },
    {
      "cell_type": "markdown",
      "metadata": {
        "id": "zKmFmyaGunc7",
        "colab_type": "text"
      },
      "source": [
        "# STEP #0: IMPORT LIBRARIES"
      ]
    },
    {
      "cell_type": "code",
      "metadata": {
        "id": "0xRGlKhVvh_c",
        "colab_type": "code",
        "outputId": "9231c73b-5cce-4ed2-c584-b1df61d8efb8",
        "colab": {
          "base_uri": "https://localhost:8080/",
          "height": 365
        }
      },
      "source": [
        "!pip install tensorflow-gpu==2.0.0.alpha0"
      ],
      "execution_count": 10,
      "outputs": [
        {
          "output_type": "stream",
          "text": [
            "Requirement already satisfied: tensorflow-gpu==2.0.0.alpha0 in /usr/local/lib/python3.6/dist-packages (2.0.0a0)\n",
            "Requirement already satisfied: termcolor>=1.1.0 in /usr/local/lib/python3.6/dist-packages (from tensorflow-gpu==2.0.0.alpha0) (1.1.0)\n",
            "Requirement already satisfied: absl-py>=0.7.0 in /usr/local/lib/python3.6/dist-packages (from tensorflow-gpu==2.0.0.alpha0) (0.8.1)\n",
            "Requirement already satisfied: six>=1.10.0 in /usr/local/lib/python3.6/dist-packages (from tensorflow-gpu==2.0.0.alpha0) (1.12.0)\n",
            "Requirement already satisfied: numpy<2.0,>=1.14.5 in /usr/local/lib/python3.6/dist-packages (from tensorflow-gpu==2.0.0.alpha0) (1.17.3)\n",
            "Requirement already satisfied: astor>=0.6.0 in /usr/local/lib/python3.6/dist-packages (from tensorflow-gpu==2.0.0.alpha0) (0.8.0)\n",
            "Requirement already satisfied: wheel>=0.26 in /usr/local/lib/python3.6/dist-packages (from tensorflow-gpu==2.0.0.alpha0) (0.33.6)\n",
            "Requirement already satisfied: keras-preprocessing>=1.0.5 in /usr/local/lib/python3.6/dist-packages (from tensorflow-gpu==2.0.0.alpha0) (1.1.0)\n",
            "Requirement already satisfied: tf-estimator-nightly<1.14.0.dev2019030116,>=1.14.0.dev2019030115 in /usr/local/lib/python3.6/dist-packages (from tensorflow-gpu==2.0.0.alpha0) (1.14.0.dev2019030115)\n",
            "Requirement already satisfied: tb-nightly<1.14.0a20190302,>=1.14.0a20190301 in /usr/local/lib/python3.6/dist-packages (from tensorflow-gpu==2.0.0.alpha0) (1.14.0a20190301)\n",
            "Requirement already satisfied: protobuf>=3.6.1 in /usr/local/lib/python3.6/dist-packages (from tensorflow-gpu==2.0.0.alpha0) (3.10.0)\n",
            "Requirement already satisfied: keras-applications>=1.0.6 in /usr/local/lib/python3.6/dist-packages (from tensorflow-gpu==2.0.0.alpha0) (1.0.8)\n",
            "Requirement already satisfied: grpcio>=1.8.6 in /usr/local/lib/python3.6/dist-packages (from tensorflow-gpu==2.0.0.alpha0) (1.15.0)\n",
            "Requirement already satisfied: gast>=0.2.0 in /usr/local/lib/python3.6/dist-packages (from tensorflow-gpu==2.0.0.alpha0) (0.2.2)\n",
            "Requirement already satisfied: google-pasta>=0.1.2 in /usr/local/lib/python3.6/dist-packages (from tensorflow-gpu==2.0.0.alpha0) (0.1.7)\n",
            "Requirement already satisfied: markdown>=2.6.8 in /usr/local/lib/python3.6/dist-packages (from tb-nightly<1.14.0a20190302,>=1.14.0a20190301->tensorflow-gpu==2.0.0.alpha0) (3.1.1)\n",
            "Requirement already satisfied: werkzeug>=0.11.15 in /usr/local/lib/python3.6/dist-packages (from tb-nightly<1.14.0a20190302,>=1.14.0a20190301->tensorflow-gpu==2.0.0.alpha0) (0.16.0)\n",
            "Requirement already satisfied: setuptools in /usr/local/lib/python3.6/dist-packages (from protobuf>=3.6.1->tensorflow-gpu==2.0.0.alpha0) (41.4.0)\n",
            "Requirement already satisfied: h5py in /usr/local/lib/python3.6/dist-packages (from keras-applications>=1.0.6->tensorflow-gpu==2.0.0.alpha0) (2.8.0)\n"
          ],
          "name": "stdout"
        }
      ]
    },
    {
      "cell_type": "code",
      "metadata": {
        "id": "dGDDfwMswR00",
        "colab_type": "code",
        "colab": {}
      },
      "source": [
        "import tensorflow as tf\n",
        "import pandas as pd\n",
        "import numpy as np\n",
        "import seaborn as sns\n",
        "import matplotlib.pyplot as plt\n"
      ],
      "execution_count": 0,
      "outputs": []
    },
    {
      "cell_type": "markdown",
      "metadata": {
        "id": "uAE6Icc0uylP",
        "colab_type": "text"
      },
      "source": [
        "# STEP #1: IMPORT DATASETS"
      ]
    },
    {
      "cell_type": "code",
      "metadata": {
        "id": "5P_ciLXawMZg",
        "colab_type": "code",
        "outputId": "deb9d3f6-3c9f-45ad-c791-9e4055bb67a0",
        "colab": {
          "base_uri": "https://localhost:8080/",
          "height": 35
        }
      },
      "source": [
        "# You will need to mount your drive using the following commands:\n",
        "# For more information regarding mounting, please check this out: https://stackoverflow.com/questions/46986398/import-data-into-google-colaboratory\n",
        "\n",
        "from google.colab import drive\n",
        "drive.mount('/content/drive')"
      ],
      "execution_count": 12,
      "outputs": [
        {
          "output_type": "stream",
          "text": [
            "Drive already mounted at /content/drive; to attempt to forcibly remount, call drive.mount(\"/content/drive\", force_remount=True).\n"
          ],
          "name": "stdout"
        }
      ]
    },
    {
      "cell_type": "code",
      "metadata": {
        "id": "tjIiJdM4u1IE",
        "colab_type": "code",
        "colab": {}
      },
      "source": [
        "# You have to include the full link to the csv file containing your dataset\n",
        "Temperature_df = pd.read_csv(\"/content/drive/My Drive/Colab Notebooks/Celsius-to-Fahrenheit.csv\")\n",
        "Temperature_df.reset_index(drop=True, inplace=True)\n",
        "\n"
      ],
      "execution_count": 0,
      "outputs": []
    },
    {
      "cell_type": "code",
      "metadata": {
        "id": "E7puy9-xxS4A",
        "colab_type": "code",
        "outputId": "5d5a36a4-9159-47f3-e548-796b319954b5",
        "colab": {
          "base_uri": "https://localhost:8080/",
          "height": 198
        }
      },
      "source": [
        "Temperature_df.head(5)"
      ],
      "execution_count": 14,
      "outputs": [
        {
          "output_type": "execute_result",
          "data": {
            "text/html": [
              "<div>\n",
              "<style scoped>\n",
              "    .dataframe tbody tr th:only-of-type {\n",
              "        vertical-align: middle;\n",
              "    }\n",
              "\n",
              "    .dataframe tbody tr th {\n",
              "        vertical-align: top;\n",
              "    }\n",
              "\n",
              "    .dataframe thead th {\n",
              "        text-align: right;\n",
              "    }\n",
              "</style>\n",
              "<table border=\"1\" class=\"dataframe\">\n",
              "  <thead>\n",
              "    <tr style=\"text-align: right;\">\n",
              "      <th></th>\n",
              "      <th>Celsius</th>\n",
              "      <th>Fahrenheit</th>\n",
              "    </tr>\n",
              "  </thead>\n",
              "  <tbody>\n",
              "    <tr>\n",
              "      <th>0</th>\n",
              "      <td>-50</td>\n",
              "      <td>-58.0</td>\n",
              "    </tr>\n",
              "    <tr>\n",
              "      <th>1</th>\n",
              "      <td>-40</td>\n",
              "      <td>-40.0</td>\n",
              "    </tr>\n",
              "    <tr>\n",
              "      <th>2</th>\n",
              "      <td>-30</td>\n",
              "      <td>-22.0</td>\n",
              "    </tr>\n",
              "    <tr>\n",
              "      <th>3</th>\n",
              "      <td>-20</td>\n",
              "      <td>-4.0</td>\n",
              "    </tr>\n",
              "    <tr>\n",
              "      <th>4</th>\n",
              "      <td>-10</td>\n",
              "      <td>14.0</td>\n",
              "    </tr>\n",
              "  </tbody>\n",
              "</table>\n",
              "</div>"
            ],
            "text/plain": [
              "   Celsius  Fahrenheit\n",
              "0      -50       -58.0\n",
              "1      -40       -40.0\n",
              "2      -30       -22.0\n",
              "3      -20        -4.0\n",
              "4      -10        14.0"
            ]
          },
          "metadata": {
            "tags": []
          },
          "execution_count": 14
        }
      ]
    },
    {
      "cell_type": "code",
      "metadata": {
        "id": "RUt2ON_UxyYk",
        "colab_type": "code",
        "outputId": "50b4b78e-007b-4550-e086-43d570b878d0",
        "colab": {
          "base_uri": "https://localhost:8080/",
          "height": 138
        }
      },
      "source": [
        "Temperature_df.tail(3)"
      ],
      "execution_count": 15,
      "outputs": [
        {
          "output_type": "execute_result",
          "data": {
            "text/html": [
              "<div>\n",
              "<style scoped>\n",
              "    .dataframe tbody tr th:only-of-type {\n",
              "        vertical-align: middle;\n",
              "    }\n",
              "\n",
              "    .dataframe tbody tr th {\n",
              "        vertical-align: top;\n",
              "    }\n",
              "\n",
              "    .dataframe thead th {\n",
              "        text-align: right;\n",
              "    }\n",
              "</style>\n",
              "<table border=\"1\" class=\"dataframe\">\n",
              "  <thead>\n",
              "    <tr style=\"text-align: right;\">\n",
              "      <th></th>\n",
              "      <th>Celsius</th>\n",
              "      <th>Fahrenheit</th>\n",
              "    </tr>\n",
              "  </thead>\n",
              "  <tbody>\n",
              "    <tr>\n",
              "      <th>27</th>\n",
              "      <td>40</td>\n",
              "      <td>104.0</td>\n",
              "    </tr>\n",
              "    <tr>\n",
              "      <th>28</th>\n",
              "      <td>50</td>\n",
              "      <td>122.0</td>\n",
              "    </tr>\n",
              "    <tr>\n",
              "      <th>29</th>\n",
              "      <td>60</td>\n",
              "      <td>140.0</td>\n",
              "    </tr>\n",
              "  </tbody>\n",
              "</table>\n",
              "</div>"
            ],
            "text/plain": [
              "    Celsius  Fahrenheit\n",
              "27       40       104.0\n",
              "28       50       122.0\n",
              "29       60       140.0"
            ]
          },
          "metadata": {
            "tags": []
          },
          "execution_count": 15
        }
      ]
    },
    {
      "cell_type": "code",
      "metadata": {
        "id": "hMq3-KWOx0e1",
        "colab_type": "code",
        "outputId": "871bce32-29d4-43e8-bd09-314c6265ec42",
        "colab": {
          "base_uri": "https://localhost:8080/",
          "height": 138
        }
      },
      "source": [
        "Temperature_df.info()"
      ],
      "execution_count": 16,
      "outputs": [
        {
          "output_type": "stream",
          "text": [
            "<class 'pandas.core.frame.DataFrame'>\n",
            "RangeIndex: 30 entries, 0 to 29\n",
            "Data columns (total 2 columns):\n",
            "Celsius       30 non-null int64\n",
            "Fahrenheit    30 non-null float64\n",
            "dtypes: float64(1), int64(1)\n",
            "memory usage: 608.0 bytes\n"
          ],
          "name": "stdout"
        }
      ]
    },
    {
      "cell_type": "code",
      "metadata": {
        "id": "s0E9xPLdx2Ok",
        "colab_type": "code",
        "outputId": "94d845c6-eeaa-421b-fa66-acc5543eab31",
        "colab": {
          "base_uri": "https://localhost:8080/",
          "height": 288
        }
      },
      "source": [
        "Temperature_df.describe()"
      ],
      "execution_count": 17,
      "outputs": [
        {
          "output_type": "execute_result",
          "data": {
            "text/html": [
              "<div>\n",
              "<style scoped>\n",
              "    .dataframe tbody tr th:only-of-type {\n",
              "        vertical-align: middle;\n",
              "    }\n",
              "\n",
              "    .dataframe tbody tr th {\n",
              "        vertical-align: top;\n",
              "    }\n",
              "\n",
              "    .dataframe thead th {\n",
              "        text-align: right;\n",
              "    }\n",
              "</style>\n",
              "<table border=\"1\" class=\"dataframe\">\n",
              "  <thead>\n",
              "    <tr style=\"text-align: right;\">\n",
              "      <th></th>\n",
              "      <th>Celsius</th>\n",
              "      <th>Fahrenheit</th>\n",
              "    </tr>\n",
              "  </thead>\n",
              "  <tbody>\n",
              "    <tr>\n",
              "      <th>count</th>\n",
              "      <td>30.000000</td>\n",
              "      <td>30.000000</td>\n",
              "    </tr>\n",
              "    <tr>\n",
              "      <th>mean</th>\n",
              "      <td>2.000000</td>\n",
              "      <td>35.600000</td>\n",
              "    </tr>\n",
              "    <tr>\n",
              "      <th>std</th>\n",
              "      <td>22.780815</td>\n",
              "      <td>41.005466</td>\n",
              "    </tr>\n",
              "    <tr>\n",
              "      <th>min</th>\n",
              "      <td>-50.000000</td>\n",
              "      <td>-58.000000</td>\n",
              "    </tr>\n",
              "    <tr>\n",
              "      <th>25%</th>\n",
              "      <td>-6.750000</td>\n",
              "      <td>19.850000</td>\n",
              "    </tr>\n",
              "    <tr>\n",
              "      <th>50%</th>\n",
              "      <td>0.500000</td>\n",
              "      <td>32.900000</td>\n",
              "    </tr>\n",
              "    <tr>\n",
              "      <th>75%</th>\n",
              "      <td>7.750000</td>\n",
              "      <td>45.950000</td>\n",
              "    </tr>\n",
              "    <tr>\n",
              "      <th>max</th>\n",
              "      <td>60.000000</td>\n",
              "      <td>140.000000</td>\n",
              "    </tr>\n",
              "  </tbody>\n",
              "</table>\n",
              "</div>"
            ],
            "text/plain": [
              "         Celsius  Fahrenheit\n",
              "count  30.000000   30.000000\n",
              "mean    2.000000   35.600000\n",
              "std    22.780815   41.005466\n",
              "min   -50.000000  -58.000000\n",
              "25%    -6.750000   19.850000\n",
              "50%     0.500000   32.900000\n",
              "75%     7.750000   45.950000\n",
              "max    60.000000  140.000000"
            ]
          },
          "metadata": {
            "tags": []
          },
          "execution_count": 17
        }
      ]
    },
    {
      "cell_type": "markdown",
      "metadata": {
        "id": "LlszUhNNyrl_",
        "colab_type": "text"
      },
      "source": [
        "# STEP #2: VISUALIZE DATASET"
      ]
    },
    {
      "cell_type": "code",
      "metadata": {
        "id": "TYcWopZVyvAs",
        "colab_type": "code",
        "colab": {
          "base_uri": "https://localhost:8080/",
          "height": 296
        },
        "outputId": "4528f713-bf27-4f30-f1c0-45c2b1814262"
      },
      "source": [
        "sns.scatterplot(Temperature_df['Celsius'], Temperature_df['Fahrenheit'])"
      ],
      "execution_count": 21,
      "outputs": [
        {
          "output_type": "execute_result",
          "data": {
            "text/plain": [
              "<matplotlib.axes._subplots.AxesSubplot at 0x7fd7d00cf9b0>"
            ]
          },
          "metadata": {
            "tags": []
          },
          "execution_count": 21
        },
        {
          "output_type": "display_data",
          "data": {
            "image/png": "[encoded data removed]",
            "text/plain": [
              "<Figure size 432x288 with 1 Axes>"
            ]
          },
          "metadata": {
            "tags": []
          }
        }
      ]
    },
    {
      "cell_type": "markdown",
      "metadata": {
        "id": "Y0GmpAjG3GiH",
        "colab_type": "text"
      },
      "source": [
        "# STEP #3: CREATE TESTING AND TRAINING DATASET"
      ]
    },
    {
      "cell_type": "code",
      "metadata": {
        "id": "0-maV8hb9rYM",
        "colab_type": "code",
        "colab": {}
      },
      "source": [
        "X_train = Temperature_df['Celsius']\n",
        "y_train = Temperature_df['Fahrenheit']\n"
      ],
      "execution_count": 0,
      "outputs": []
    },
    {
      "cell_type": "markdown",
      "metadata": {
        "id": "53qDZFRn3-S1",
        "colab_type": "text"
      },
      "source": [
        "# STEP#4: BUILD AND TRAIN THE MODEL"
      ]
    },
    {
      "cell_type": "code",
      "metadata": {
        "id": "DqIp8uvJ3cGi",
        "colab_type": "code",
        "colab": {
          "base_uri": "https://localhost:8080/",
          "height": 35
        },
        "outputId": "0c265776-0ae7-466d-ae67-9f207bac058e"
      },
      "source": [
        "X_train.shape"
      ],
      "execution_count": 23,
      "outputs": [
        {
          "output_type": "execute_result",
          "data": {
            "text/plain": [
              "(30,)"
            ]
          },
          "metadata": {
            "tags": []
          },
          "execution_count": 23
        }
      ]
    },
    {
      "cell_type": "code",
      "metadata": {
        "id": "d4wfApza3cEc",
        "colab_type": "code",
        "colab": {
          "base_uri": "https://localhost:8080/",
          "height": 35
        },
        "outputId": "2c86d7ea-46d5-4745-b810-cf98bee15e64"
      },
      "source": [
        "y_train.shape"
      ],
      "execution_count": 24,
      "outputs": [
        {
          "output_type": "execute_result",
          "data": {
            "text/plain": [
              "(30,)"
            ]
          },
          "metadata": {
            "tags": []
          },
          "execution_count": 24
        }
      ]
    },
    {
      "cell_type": "code",
      "metadata": {
        "id": "Yl6fmPJj3cCX",
        "colab_type": "code",
        "colab": {}
      },
      "source": [
        "model = tf.keras.Sequential()\n",
        "model.add(tf.keras.layers.Dense(units = 1, input_shape=[1]))"
      ],
      "execution_count": 0,
      "outputs": []
    },
    {
      "cell_type": "code",
      "metadata": {
        "id": "GUd71odB4v-i",
        "colab_type": "code",
        "colab": {
          "base_uri": "https://localhost:8080/",
          "height": 190
        },
        "outputId": "4b6776d5-6b9a-464d-8512-c3a56ba461eb"
      },
      "source": [
        "model.summary()"
      ],
      "execution_count": 27,
      "outputs": [
        {
          "output_type": "stream",
          "text": [
            "Model: \"sequential_1\"\n",
            "_________________________________________________________________\n",
            "Layer (type)                 Output Shape              Param #   \n",
            "=================================================================\n",
            "dense_1 (Dense)              (None, 1)                 2         \n",
            "=================================================================\n",
            "Total params: 2\n",
            "Trainable params: 2\n",
            "Non-trainable params: 0\n",
            "_________________________________________________________________\n"
          ],
          "name": "stdout"
        }
      ]
    },
    {
      "cell_type": "code",
      "metadata": {
        "id": "BYmvNpNw5Act",
        "colab_type": "code",
        "colab": {}
      },
      "source": [
        "model.compile(optimizer=tf.keras.optimizers.Adam(0.5),loss='mean_squared_error')"
      ],
      "execution_count": 0,
      "outputs": []
    },
    {
      "cell_type": "code",
      "metadata": {
        "id": "tpia0VBS5Ljw",
        "colab_type": "code",
        "colab": {
          "base_uri": "https://localhost:8080/",
          "height": 1000
        },
        "outputId": "4f058ffd-4bd2-47c1-a64b-9353cd36619a"
      },
      "source": [
        "epochs_hist = model.fit(X_train, y_train, epochs= 100)"
      ],
      "execution_count": 35,
      "outputs": [
        {
          "output_type": "stream",
          "text": [
            "Epoch 1/100\n",
            "30/30 [==============================] - 0s 3ms/sample - loss: 6.3665e-13\n",
            "Epoch 2/100\n",
            "30/30 [==============================] - 0s 115us/sample - loss: 37.2299\n",
            "Epoch 3/100\n",
            "30/30 [==============================] - 0s 126us/sample - loss: 5.4122\n",
            "Epoch 4/100\n",
            "30/30 [==============================] - 0s 152us/sample - loss: 33.9260\n",
            "Epoch 5/100\n",
            "30/30 [==============================] - 0s 158us/sample - loss: 12.9278\n",
            "Epoch 6/100\n",
            "30/30 [==============================] - 0s 195us/sample - loss: 0.2640\n",
            "Epoch 7/100\n",
            "30/30 [==============================] - 0s 165us/sample - loss: 13.7538\n",
            "Epoch 8/100\n",
            "30/30 [==============================] - 0s 148us/sample - loss: 17.9016\n",
            "Epoch 9/100\n",
            "30/30 [==============================] - 0s 152us/sample - loss: 6.2725\n",
            "Epoch 10/100\n",
            "30/30 [==============================] - 0s 123us/sample - loss: 0.0685\n",
            "Epoch 11/100\n",
            "30/30 [==============================] - 0s 185us/sample - loss: 6.4633\n",
            "Epoch 12/100\n",
            "30/30 [==============================] - 0s 176us/sample - loss: 11.3478\n",
            "Epoch 13/100\n",
            "30/30 [==============================] - 0s 140us/sample - loss: 6.5460\n",
            "Epoch 14/100\n",
            "30/30 [==============================] - 0s 183us/sample - loss: 0.5127\n",
            "Epoch 15/100\n",
            "30/30 [==============================] - 0s 159us/sample - loss: 1.6411\n",
            "Epoch 16/100\n",
            "30/30 [==============================] - 0s 129us/sample - loss: 6.2327\n",
            "Epoch 17/100\n",
            "30/30 [==============================] - 0s 146us/sample - loss: 6.1735\n",
            "Epoch 18/100\n",
            "30/30 [==============================] - 0s 148us/sample - loss: 1.9554\n",
            "Epoch 19/100\n",
            "30/30 [==============================] - 0s 125us/sample - loss: 0.0417\n",
            "Epoch 20/100\n",
            "30/30 [==============================] - 0s 123us/sample - loss: 2.4077\n",
            "Epoch 21/100\n",
            "30/30 [==============================] - 0s 174us/sample - loss: 4.3837\n",
            "Epoch 22/100\n",
            "30/30 [==============================] - 0s 155us/sample - loss: 2.7562\n",
            "Epoch 23/100\n",
            "30/30 [==============================] - 0s 156us/sample - loss: 0.2923\n",
            "Epoch 24/100\n",
            "30/30 [==============================] - 0s 139us/sample - loss: 0.5384\n",
            "Epoch 25/100\n",
            "30/30 [==============================] - 0s 151us/sample - loss: 2.4013\n",
            "Epoch 26/100\n",
            "30/30 [==============================] - 0s 163us/sample - loss: 2.5238\n",
            "Epoch 27/100\n",
            "30/30 [==============================] - 0s 125us/sample - loss: 0.8123\n",
            "Epoch 28/100\n",
            "30/30 [==============================] - 0s 179us/sample - loss: 0.0197\n",
            "Epoch 29/100\n",
            "30/30 [==============================] - 0s 153us/sample - loss: 1.0414\n",
            "Epoch 30/100\n",
            "30/30 [==============================] - 0s 208us/sample - loss: 1.8008\n",
            "Epoch 31/100\n",
            "30/30 [==============================] - 0s 226us/sample - loss: 0.9968\n",
            "Epoch 32/100\n",
            "30/30 [==============================] - 0s 196us/sample - loss: 0.0468\n",
            "Epoch 33/100\n",
            "30/30 [==============================] - 0s 271us/sample - loss: 0.3793\n",
            "Epoch 34/100\n",
            "30/30 [==============================] - 0s 179us/sample - loss: 1.1237\n",
            "Epoch 35/100\n",
            "30/30 [==============================] - 0s 195us/sample - loss: 0.8863\n",
            "Epoch 36/100\n",
            "30/30 [==============================] - 0s 157us/sample - loss: 0.1331\n",
            "Epoch 37/100\n",
            "30/30 [==============================] - 0s 141us/sample - loss: 0.1184\n",
            "Epoch 38/100\n",
            "30/30 [==============================] - 0s 160us/sample - loss: 0.6623\n",
            "Epoch 39/100\n",
            "30/30 [==============================] - 0s 164us/sample - loss: 0.6756\n",
            "Epoch 40/100\n",
            "30/30 [==============================] - 0s 204us/sample - loss: 0.1627\n",
            "Epoch 41/100\n",
            "30/30 [==============================] - 0s 201us/sample - loss: 0.0385\n",
            "Epoch 42/100\n",
            "30/30 [==============================] - 0s 320us/sample - loss: 0.3973\n",
            "Epoch 43/100\n",
            "30/30 [==============================] - 0s 285us/sample - loss: 0.4754\n",
            "Epoch 44/100\n",
            "30/30 [==============================] - 0s 247us/sample - loss: 0.1369\n",
            "Epoch 45/100\n",
            "30/30 [==============================] - 0s 322us/sample - loss: 0.0152\n",
            "Epoch 46/100\n",
            "30/30 [==============================] - 0s 431us/sample - loss: 0.2537\n",
            "Epoch 47/100\n",
            "30/30 [==============================] - 0s 369us/sample - loss: 0.3230\n",
            "Epoch 48/100\n",
            "30/30 [==============================] - 0s 321us/sample - loss: 0.0945\n",
            "Epoch 49/100\n",
            "30/30 [==============================] - 0s 194us/sample - loss: 0.0118\n",
            "Epoch 50/100\n",
            "30/30 [==============================] - 0s 139us/sample - loss: 0.1763\n",
            "Epoch 51/100\n",
            "30/30 [==============================] - 0s 149us/sample - loss: 0.2124\n",
            "Epoch 52/100\n",
            "30/30 [==============================] - 0s 184us/sample - loss: 0.0522\n",
            "Epoch 53/100\n",
            "30/30 [==============================] - 0s 260us/sample - loss: 0.0141\n",
            "Epoch 54/100\n",
            "30/30 [==============================] - 0s 218us/sample - loss: 0.1315\n",
            "Epoch 55/100\n",
            "30/30 [==============================] - 0s 269us/sample - loss: 0.1342\n",
            "Epoch 56/100\n",
            "30/30 [==============================] - 0s 282us/sample - loss: 0.0219\n",
            "Epoch 57/100\n",
            "30/30 [==============================] - 0s 309us/sample - loss: 0.0203\n",
            "Epoch 58/100\n",
            "30/30 [==============================] - 0s 232us/sample - loss: 0.1001\n",
            "Epoch 59/100\n",
            "30/30 [==============================] - 0s 208us/sample - loss: 0.0770\n",
            "Epoch 60/100\n",
            "30/30 [==============================] - 0s 206us/sample - loss: 0.0047\n",
            "Epoch 61/100\n",
            "30/30 [==============================] - 0s 327us/sample - loss: 0.0276\n",
            "Epoch 62/100\n",
            "30/30 [==============================] - 0s 187us/sample - loss: 0.0739\n",
            "Epoch 63/100\n",
            "30/30 [==============================] - 0s 165us/sample - loss: 0.0372\n",
            "Epoch 64/100\n",
            "30/30 [==============================] - 0s 133us/sample - loss: 8.4461e-05\n",
            "Epoch 65/100\n",
            "30/30 [==============================] - 0s 164us/sample - loss: 0.0324\n",
            "Epoch 66/100\n",
            "30/30 [==============================] - 0s 230us/sample - loss: 0.0486\n",
            "Epoch 67/100\n",
            "30/30 [==============================] - 0s 495us/sample - loss: 0.0123\n",
            "Epoch 68/100\n",
            "30/30 [==============================] - 0s 297us/sample - loss: 0.0041\n",
            "Epoch 69/100\n",
            "30/30 [==============================] - 0s 165us/sample - loss: 0.0318\n",
            "Epoch 70/100\n",
            "30/30 [==============================] - 0s 199us/sample - loss: 0.0260\n",
            "Epoch 71/100\n",
            "30/30 [==============================] - 0s 226us/sample - loss: 0.0013\n",
            "Epoch 72/100\n",
            "30/30 [==============================] - 0s 264us/sample - loss: 0.0106\n",
            "Epoch 73/100\n",
            "30/30 [==============================] - 0s 220us/sample - loss: 0.0246\n",
            "Epoch 74/100\n",
            "30/30 [==============================] - 0s 208us/sample - loss: 0.0092\n",
            "Epoch 75/100\n",
            "30/30 [==============================] - 0s 240us/sample - loss: 7.8822e-04\n",
            "Epoch 76/100\n",
            "30/30 [==============================] - 0s 239us/sample - loss: 0.0143\n",
            "Epoch 77/100\n",
            "30/30 [==============================] - 0s 248us/sample - loss: 0.0138\n",
            "Epoch 78/100\n",
            "30/30 [==============================] - 0s 318us/sample - loss: 9.8865e-04\n",
            "Epoch 79/100\n",
            "30/30 [==============================] - 0s 137us/sample - loss: 0.0048\n",
            "Epoch 80/100\n",
            "30/30 [==============================] - 0s 172us/sample - loss: 0.0121\n",
            "Epoch 81/100\n",
            "30/30 [==============================] - 0s 188us/sample - loss: 0.0044\n",
            "Epoch 82/100\n",
            "30/30 [==============================] - 0s 145us/sample - loss: 5.3542e-04\n",
            "Epoch 83/100\n",
            "30/30 [==============================] - 0s 134us/sample - loss: 0.0074\n",
            "Epoch 84/100\n",
            "30/30 [==============================] - 0s 187us/sample - loss: 0.0063\n",
            "Epoch 85/100\n",
            "30/30 [==============================] - 0s 223us/sample - loss: 1.7934e-04\n",
            "Epoch 86/100\n",
            "30/30 [==============================] - 0s 231us/sample - loss: 0.0032\n",
            "Epoch 87/100\n",
            "30/30 [==============================] - 0s 187us/sample - loss: 0.0059\n",
            "Epoch 88/100\n",
            "30/30 [==============================] - 0s 128us/sample - loss: 0.0013\n",
            "Epoch 89/100\n",
            "30/30 [==============================] - 0s 203us/sample - loss: 8.1370e-04\n",
            "Epoch 90/100\n",
            "30/30 [==============================] - 0s 240us/sample - loss: 0.0042\n",
            "Epoch 91/100\n",
            "30/30 [==============================] - 0s 246us/sample - loss: 0.0022\n",
            "Epoch 92/100\n",
            "30/30 [==============================] - 0s 240us/sample - loss: 3.4269e-05\n",
            "Epoch 93/100\n",
            "30/30 [==============================] - 0s 222us/sample - loss: 0.0024\n",
            "Epoch 94/100\n",
            "30/30 [==============================] - 0s 244us/sample - loss: 0.0024\n",
            "Epoch 95/100\n",
            "30/30 [==============================] - 0s 240us/sample - loss: 1.1091e-04\n",
            "Epoch 96/100\n",
            "30/30 [==============================] - 0s 230us/sample - loss: 0.0011\n",
            "Epoch 97/100\n",
            "30/30 [==============================] - 0s 230us/sample - loss: 0.0021\n",
            "Epoch 98/100\n",
            "30/30 [==============================] - 0s 252us/sample - loss: 4.0006e-04\n",
            "Epoch 99/100\n",
            "30/30 [==============================] - 0s 250us/sample - loss: 3.9531e-04\n",
            "Epoch 100/100\n",
            "30/30 [==============================] - 0s 263us/sample - loss: 0.0016\n"
          ],
          "name": "stdout"
        }
      ]
    },
    {
      "cell_type": "markdown",
      "metadata": {
        "id": "-wRQqOeB5Zh5",
        "colab_type": "text"
      },
      "source": [
        "# STEP#5: EVALUATING THE MODEL "
      ]
    },
    {
      "cell_type": "code",
      "metadata": {
        "id": "dfUb63035TJL",
        "colab_type": "code",
        "colab": {
          "base_uri": "https://localhost:8080/",
          "height": 35
        },
        "outputId": "a4315647-f10d-4178-c620-7d01b2ce7a7a"
      },
      "source": [
        "epochs_hist.history.keys()"
      ],
      "execution_count": 36,
      "outputs": [
        {
          "output_type": "execute_result",
          "data": {
            "text/plain": [
              "dict_keys(['loss'])"
            ]
          },
          "metadata": {
            "tags": []
          },
          "execution_count": 36
        }
      ]
    },
    {
      "cell_type": "code",
      "metadata": {
        "id": "eXiDop_l5erJ",
        "colab_type": "code",
        "colab": {
          "base_uri": "https://localhost:8080/",
          "height": 312
        },
        "outputId": "379292be-1721-46a8-ce13-04bd9966408f"
      },
      "source": [
        "plt.plot(epochs_hist.history['loss'])\n",
        "plt.title('Model Loss Progress During Training')\n",
        "plt.xlabel('Epoch')\n",
        "plt.ylabel('Training Loss')\n",
        "plt.legend(['Training Loss'])"
      ],
      "execution_count": 37,
      "outputs": [
        {
          "output_type": "execute_result",
          "data": {
            "text/plain": [
              "<matplotlib.legend.Legend at 0x7fd7a9c84198>"
            ]
          },
          "metadata": {
            "tags": []
          },
          "execution_count": 37
        },
        {
          "output_type": "display_data",
          "data": {
            "image/png": "[encoded data removed]",
            "text/plain": [
              "<Figure size 432x288 with 1 Axes>"
            ]
          },
          "metadata": {
            "tags": []
          }
        }
      ]
    },
    {
      "cell_type": "code",
      "metadata": {
        "id": "yFYpuUJWBn6L",
        "colab_type": "code",
        "colab": {
          "base_uri": "https://localhost:8080/",
          "height": 35
        },
        "outputId": "82e37903-344b-4287-c51b-afd9f001e962"
      },
      "source": [
        "model.get_weights()"
      ],
      "execution_count": 38,
      "outputs": [
        {
          "output_type": "execute_result",
          "data": {
            "text/plain": [
              "[array([[1.80111]], dtype=float32), array([31.999083], dtype=float32)]"
            ]
          },
          "metadata": {
            "tags": []
          },
          "execution_count": 38
        }
      ]
    },
    {
      "cell_type": "code",
      "metadata": {
        "id": "isfjfT735fjD",
        "colab_type": "code",
        "colab": {
          "base_uri": "https://localhost:8080/",
          "height": 35
        },
        "outputId": "8d292114-3919-4bd7-b217-644a396e93ae"
      },
      "source": [
        "# Use the trained model to perform predictions\n",
        "\n",
        "Temp_C = 0\n",
        "Temp_F = model.predict([Temp_C])\n",
        "print('Temperature in degF Using Trained ANN =', Temp_F)\n"
      ],
      "execution_count": 41,
      "outputs": [
        {
          "output_type": "stream",
          "text": [
            "Temperature in degF Using Trained ANN = [[31.999083]]\n"
          ],
          "name": "stdout"
        }
      ]
    },
    {
      "cell_type": "code",
      "metadata": {
        "id": "mfP_j7LaDjNR",
        "colab_type": "code",
        "colab": {
          "base_uri": "https://localhost:8080/",
          "height": 35
        },
        "outputId": "85b16b56-9388-4371-ba70-7e22f93b3444"
      },
      "source": [
        "# Let's confirm this Using the equation: \n",
        "Temp_F = 9/5 * Temp_C + 32\n",
        "print('Temperature in degF Using Equation =', Temp_F)\n"
      ],
      "execution_count": 42,
      "outputs": [
        {
          "output_type": "stream",
          "text": [
            "Temperature in degF Using Equation = 32.0\n"
          ],
          "name": "stdout"
        }
      ]
    },
    {
      "cell_type": "markdown",
      "metadata": {
        "id": "27OgYEJu9EFV",
        "colab_type": "text"
      },
      "source": [
        "# EXCELLENT JOB & CONGRATULATIONS! NOW YOU HAVE BUILT YOUR FIRST NEURAL NETWORK MODEL USING TENSORFLOW 2.0 IN GOOGLE COLAB! "
      ]
    }
  ]
}